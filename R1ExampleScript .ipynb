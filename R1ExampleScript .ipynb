{
 "cells": [
  {
   "cell_type": "markdown",
   "metadata": {},
   "source": [
    "# Materials Data Bank\n",
    "## Validation Process \n",
    "\n",
    "A database is only as useful as the data that is in it. We believe that a rigorous form of validation is a vital part of the Materials Data Bank and have developed easy to use validation scripts using the freely available Python programming language.\n",
    "\n",
    "After a new structure is deposited, an automated validation process will start to calculate the R1 factor of the structure using the following two equations.\n",
    "$$ R_1^i = \\frac{\\sum_{x,y}|f_{obs}^i(x,y)-f_{calc}^i(x,y)|}{\\sum_{x,y}|f_{obs}^i(x,y)|}$$\n",
    "\n",
    "$$ R_1^i = \\frac{\\sum_{i=1}^N R_1^i}{N}$$\n",
    "\n",
    "\n",
    "Where $f^i_{obs}(x,y)$ is the $i^{th}$ measured projection, $f^i_{calc}(x,y)$ is the $i^{th}$ calculated projeciton, which is linearly projected from the 3D atomic structure, and $N$ is the total number of projections. \n",
    "Users can also download the MATLAB or Python source code to calculate the $R_1$ factor before depositing a structure. After the automated validation, all the information will be sent to the MDB team for manual validation of the structure and the authors will be contacted within seven days. After successful automated and manual validation, the structure will be deposited to the MDB and will be assigned with a MDB ID.\n",
    "\n"
   ]
  },
  {
   "cell_type": "code",
   "execution_count": 15,
   "metadata": {},
   "outputs": [],
   "source": [
    "import numpy as np\n",
    "import scipy.io as sio\n",
    "import mdbpy\n",
    "from scipy.optimize import minimize, fmin_cg"
   ]
  },
  {
   "cell_type": "markdown",
   "metadata": {},
   "source": [
    "#### Load data sets from the example_dset folder"
   ]
  },
  {
   "cell_type": "code",
   "execution_count": 16,
   "metadata": {},
   "outputs": [],
   "source": [
    "stringList = ''\n",
    "currPos    = np.load('./example_dset/FePt/model.npy'.format(stringList)) \n",
    "currAtom   = np.load('./example_dset/FePt/atoms.npy'.format(stringList))\n",
    "currProjs  = np.load('./example_dset/FePt/projs.npy'.format(stringList))\n",
    "currAngles = np.load('./example_dset/FePt/angles.npy'.format(stringList))"
   ]
  },
  {
   "cell_type": "markdown",
   "metadata": {},
   "source": [
    "#### Defining the experimental paramters \n",
    "\n",
    "1. atomic numbers of the atoms\n",
    "2. Pixel Resolution in Å\n",
    "3. z direction (tilt)\n",
    "4. axis convenction for Euler rotation angles\n"
   ]
  },
  {
   "cell_type": "code",
   "execution_count": 17,
   "metadata": {},
   "outputs": [],
   "source": [
    "AtomicNumbers = np.array([26, 78])\n",
    "Resolution = 0.3725\n",
    "zDir = 1\n",
    "Axis_array = [[0,0,1],[0,1,0],[0,0,1]]"
   ]
  },
  {
   "cell_type": "markdown",
   "metadata": {},
   "source": [
    "#### Run the calculation and print $R_1$ factor "
   ]
  },
  {
   "cell_type": "code",
   "execution_count": null,
   "metadata": {},
   "outputs": [],
   "source": [
    "Result = mdbpy.calc_R1_function_indivFA_python(currPos,currAtom,currProjs,currAngles,Resolution,Axis_array,AtomicNumbers,zDir)"
   ]
  },
  {
   "cell_type": "code",
   "execution_count": null,
   "metadata": {},
   "outputs": [],
   "source": [
    "calcProjs=Result[0]\n",
    "print(Result[1])"
   ]
  }
 ],
 "metadata": {
  "kernelspec": {
   "display_name": "Python 3",
   "language": "python",
   "name": "python3"
  },
  "language_info": {
   "codemirror_mode": {
    "name": "ipython",
    "version": 3
   },
   "file_extension": ".py",
   "mimetype": "text/x-python",
   "name": "python",
   "nbconvert_exporter": "python",
   "pygments_lexer": "ipython3",
   "version": "3.7.6"
  }
 },
 "nbformat": 4,
 "nbformat_minor": 4
}
